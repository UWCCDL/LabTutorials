{
 "cells": [
  {
   "cell_type": "markdown",
   "id": "8bbf1a3c-10d6-46c9-8e91-4bc10cb86a80",
   "metadata": {},
   "source": [
    "# Fitting a model\n",
    "\n",
    "So far, we have created toy examples of models acting in simulated environment. But how do we use RL mdoels to analyze real, experimental data? in this notebook, we will go through an example analyzing behavioral data from a RL-like task in humans."
   ]
  },
  {
   "cell_type": "code",
   "execution_count": 67,
   "id": "7a2a0750-45f4-4702-aadc-665f102000f5",
   "metadata": {
    "tags": []
   },
   "outputs": [],
   "source": [
    "import numpy as np\n",
    "import scipy.optimize as opt\n",
    "import matplotlib.pyplot as plt\n",
    "import pandas as pd\n",
    "from matplotlib.ticker import (MultipleLocator, AutoMinorLocator)\n",
    "from tqdm.notebook import tqdm\n",
    "import os\n",
    "import seaborn as sns\n",
    "from pybads.bads import BADS\n",
    "sns.set(style=\"whitegrid\", font=\"Helvetica\")"
   ]
  },
  {
   "cell_type": "markdown",
   "id": "aaa32171-ad0f-4a28-9001-b8e4dfc85715",
   "metadata": {},
   "source": [
    "## The Task\n",
    "\n",
    "We are going to use real data from a task designed in 2018 by Anne Collins. "
   ]
  },
  {
   "cell_type": "markdown",
   "id": "fad89e82-ca2e-48bf-b6c4-9bc7c04da8ac",
   "metadata": {},
   "source": [
    "## The Data\n",
    "\n",
    "The following code is just needed to extra the data from one 6-stimulus blocks from one particular participant, coded as 7501."
   ]
  },
  {
   "cell_type": "code",
   "execution_count": 188,
   "id": "5a801923-f008-4f00-9b82-e485b05420e0",
   "metadata": {
    "tags": []
   },
   "outputs": [
    {
     "data": {
      "text/html": [
       "<div>\n",
       "<style scoped>\n",
       "    .dataframe tbody tr th:only-of-type {\n",
       "        vertical-align: middle;\n",
       "    }\n",
       "\n",
       "    .dataframe tbody tr th {\n",
       "        vertical-align: top;\n",
       "    }\n",
       "\n",
       "    .dataframe thead th {\n",
       "        text-align: right;\n",
       "    }\n",
       "</style>\n",
       "<table border=\"1\" class=\"dataframe\">\n",
       "  <thead>\n",
       "    <tr style=\"text-align: right;\">\n",
       "      <th></th>\n",
       "      <th>Deck</th>\n",
       "      <th>Immediate</th>\n",
       "      <th>Delayed</th>\n",
       "      <th>Total</th>\n",
       "      <th>Date</th>\n",
       "      <th>Time</th>\n",
       "      <th>RT</th>\n",
       "      <th>Feedback</th>\n",
       "      <th>DualTask</th>\n",
       "    </tr>\n",
       "  </thead>\n",
       "  <tbody>\n",
       "    <tr>\n",
       "      <th>0</th>\n",
       "      <td>A</td>\n",
       "      <td>100</td>\n",
       "      <td>0</td>\n",
       "      <td>2000</td>\n",
       "      <td>27/01/2006</td>\n",
       "      <td>12:07'35\"180</td>\n",
       "      <td>4046</td>\n",
       "      <td>True</td>\n",
       "      <td>False</td>\n",
       "    </tr>\n",
       "    <tr>\n",
       "      <th>1</th>\n",
       "      <td>A</td>\n",
       "      <td>120</td>\n",
       "      <td>0</td>\n",
       "      <td>2100</td>\n",
       "      <td>27/01/2006</td>\n",
       "      <td>12:07'44\"023</td>\n",
       "      <td>4807</td>\n",
       "      <td>True</td>\n",
       "      <td>False</td>\n",
       "    </tr>\n",
       "    <tr>\n",
       "      <th>2</th>\n",
       "      <td>A</td>\n",
       "      <td>80</td>\n",
       "      <td>-150</td>\n",
       "      <td>2220</td>\n",
       "      <td>27/01/2006</td>\n",
       "      <td>12:07'49\"120</td>\n",
       "      <td>1071</td>\n",
       "      <td>True</td>\n",
       "      <td>False</td>\n",
       "    </tr>\n",
       "    <tr>\n",
       "      <th>3</th>\n",
       "      <td>A</td>\n",
       "      <td>90</td>\n",
       "      <td>0</td>\n",
       "      <td>2150</td>\n",
       "      <td>27/01/2006</td>\n",
       "      <td>12:07'54\"738</td>\n",
       "      <td>1572</td>\n",
       "      <td>True</td>\n",
       "      <td>False</td>\n",
       "    </tr>\n",
       "    <tr>\n",
       "      <th>4</th>\n",
       "      <td>D</td>\n",
       "      <td>50</td>\n",
       "      <td>0</td>\n",
       "      <td>2240</td>\n",
       "      <td>27/01/2006</td>\n",
       "      <td>12:08'01\"969</td>\n",
       "      <td>3205</td>\n",
       "      <td>True</td>\n",
       "      <td>False</td>\n",
       "    </tr>\n",
       "    <tr>\n",
       "      <th>...</th>\n",
       "      <td>...</td>\n",
       "      <td>...</td>\n",
       "      <td>...</td>\n",
       "      <td>...</td>\n",
       "      <td>...</td>\n",
       "      <td>...</td>\n",
       "      <td>...</td>\n",
       "      <td>...</td>\n",
       "      <td>...</td>\n",
       "    </tr>\n",
       "    <tr>\n",
       "      <th>95</th>\n",
       "      <td>A</td>\n",
       "      <td>90</td>\n",
       "      <td>0</td>\n",
       "      <td>6205</td>\n",
       "      <td>27/01/2006</td>\n",
       "      <td>12:15'06\"769</td>\n",
       "      <td>3705</td>\n",
       "      <td>True</td>\n",
       "      <td>False</td>\n",
       "    </tr>\n",
       "    <tr>\n",
       "      <th>96</th>\n",
       "      <td>A</td>\n",
       "      <td>100</td>\n",
       "      <td>-250</td>\n",
       "      <td>6295</td>\n",
       "      <td>27/01/2006</td>\n",
       "      <td>12:15'11\"707</td>\n",
       "      <td>922</td>\n",
       "      <td>True</td>\n",
       "      <td>False</td>\n",
       "    </tr>\n",
       "    <tr>\n",
       "      <th>97</th>\n",
       "      <td>C</td>\n",
       "      <td>40</td>\n",
       "      <td>-50</td>\n",
       "      <td>6145</td>\n",
       "      <td>27/01/2006</td>\n",
       "      <td>12:15'16\"253</td>\n",
       "      <td>501</td>\n",
       "      <td>True</td>\n",
       "      <td>False</td>\n",
       "    </tr>\n",
       "    <tr>\n",
       "      <th>98</th>\n",
       "      <td>C</td>\n",
       "      <td>55</td>\n",
       "      <td>0</td>\n",
       "      <td>6135</td>\n",
       "      <td>27/01/2006</td>\n",
       "      <td>12:15'20\"760</td>\n",
       "      <td>471</td>\n",
       "      <td>True</td>\n",
       "      <td>False</td>\n",
       "    </tr>\n",
       "    <tr>\n",
       "      <th>99</th>\n",
       "      <td>C</td>\n",
       "      <td>55</td>\n",
       "      <td>-25</td>\n",
       "      <td>6190</td>\n",
       "      <td>27/01/2006</td>\n",
       "      <td>12:15'25\"376</td>\n",
       "      <td>571</td>\n",
       "      <td>True</td>\n",
       "      <td>False</td>\n",
       "    </tr>\n",
       "  </tbody>\n",
       "</table>\n",
       "<p>100 rows × 9 columns</p>\n",
       "</div>"
      ],
      "text/plain": [
       "   Deck  Immediate  Delayed  Total        Date          Time    RT  Feedback  \\\n",
       "0     A        100        0   2000  27/01/2006  12:07'35\"180  4046      True   \n",
       "1     A        120        0   2100  27/01/2006  12:07'44\"023  4807      True   \n",
       "2     A         80     -150   2220  27/01/2006  12:07'49\"120  1071      True   \n",
       "3     A         90        0   2150  27/01/2006  12:07'54\"738  1572      True   \n",
       "4     D         50        0   2240  27/01/2006  12:08'01\"969  3205      True   \n",
       "..  ...        ...      ...    ...         ...           ...   ...       ...   \n",
       "95    A         90        0   6205  27/01/2006  12:15'06\"769  3705      True   \n",
       "96    A        100     -250   6295  27/01/2006  12:15'11\"707   922      True   \n",
       "97    C         40      -50   6145  27/01/2006  12:15'16\"253   501      True   \n",
       "98    C         55        0   6135  27/01/2006  12:15'20\"760   471      True   \n",
       "99    C         55      -25   6190  27/01/2006  12:15'25\"376   571      True   \n",
       "\n",
       "    DualTask  \n",
       "0      False  \n",
       "1      False  \n",
       "2      False  \n",
       "3      False  \n",
       "4      False  \n",
       "..       ...  \n",
       "95     False  \n",
       "96     False  \n",
       "97     False  \n",
       "98     False  \n",
       "99     False  \n",
       "\n",
       "[100 rows x 9 columns]"
      ]
     },
     "execution_count": 188,
     "metadata": {},
     "output_type": "execute_result"
    }
   ],
   "source": [
    "data = pd.read_csv(\"igt_sub_032.txt\", index_col=None)\n",
    "data"
   ]
  },
  {
   "cell_type": "markdown",
   "id": "7c0cb62d-a5ba-4e41-8d80-c77b6afbb60a",
   "metadata": {},
   "source": [
    "As a result, the variable `data` now contains a dataframe (a table) of 100 rows, one for each trial, and 9 columns, which contain the information about each trial (the deck chosen, the immediate and delayed feedback, the response time, and additional metadata)\n",
    "\n",
    "We can check how the different responses are coded:"
   ]
  },
  {
   "cell_type": "code",
   "execution_count": 189,
   "id": "f2c0cec4-d02b-435c-a093-94d3a8dc6223",
   "metadata": {},
   "outputs": [
    {
     "data": {
      "text/plain": [
       "{'A', 'B', 'C', 'D'}"
      ]
     },
     "execution_count": 189,
     "metadata": {},
     "output_type": "execute_result"
    }
   ],
   "source": [
    "set(data.Deck)"
   ]
  },
  {
   "cell_type": "markdown",
   "id": "dc827d1a-b3ef-42ca-ad9e-76bac2ba36d5",
   "metadata": {},
   "source": [
    "We can also check a participant's profile "
   ]
  },
  {
   "cell_type": "code",
   "execution_count": 190,
   "id": "0093a57f-c6d3-4558-a3ea-c9459fdad4e2",
   "metadata": {},
   "outputs": [
    {
     "data": {
      "text/html": [
       "<div>\n",
       "<style scoped>\n",
       "    .dataframe tbody tr th:only-of-type {\n",
       "        vertical-align: middle;\n",
       "    }\n",
       "\n",
       "    .dataframe tbody tr th {\n",
       "        vertical-align: top;\n",
       "    }\n",
       "\n",
       "    .dataframe thead th {\n",
       "        text-align: right;\n",
       "    }\n",
       "</style>\n",
       "<table border=\"1\" class=\"dataframe\">\n",
       "  <thead>\n",
       "    <tr style=\"text-align: right;\">\n",
       "      <th></th>\n",
       "      <th>Immediate</th>\n",
       "      <th>Delayed</th>\n",
       "      <th>Total</th>\n",
       "      <th>Date</th>\n",
       "      <th>Time</th>\n",
       "      <th>RT</th>\n",
       "      <th>Feedback</th>\n",
       "      <th>DualTask</th>\n",
       "    </tr>\n",
       "    <tr>\n",
       "      <th>Deck</th>\n",
       "      <th></th>\n",
       "      <th></th>\n",
       "      <th></th>\n",
       "      <th></th>\n",
       "      <th></th>\n",
       "      <th></th>\n",
       "      <th></th>\n",
       "      <th></th>\n",
       "    </tr>\n",
       "  </thead>\n",
       "  <tbody>\n",
       "    <tr>\n",
       "      <th>A</th>\n",
       "      <td>14</td>\n",
       "      <td>14</td>\n",
       "      <td>14</td>\n",
       "      <td>14</td>\n",
       "      <td>14</td>\n",
       "      <td>14</td>\n",
       "      <td>14</td>\n",
       "      <td>14</td>\n",
       "    </tr>\n",
       "    <tr>\n",
       "      <th>B</th>\n",
       "      <td>14</td>\n",
       "      <td>14</td>\n",
       "      <td>14</td>\n",
       "      <td>14</td>\n",
       "      <td>14</td>\n",
       "      <td>14</td>\n",
       "      <td>14</td>\n",
       "      <td>14</td>\n",
       "    </tr>\n",
       "    <tr>\n",
       "      <th>C</th>\n",
       "      <td>12</td>\n",
       "      <td>12</td>\n",
       "      <td>12</td>\n",
       "      <td>12</td>\n",
       "      <td>12</td>\n",
       "      <td>12</td>\n",
       "      <td>12</td>\n",
       "      <td>12</td>\n",
       "    </tr>\n",
       "    <tr>\n",
       "      <th>D</th>\n",
       "      <td>60</td>\n",
       "      <td>60</td>\n",
       "      <td>60</td>\n",
       "      <td>60</td>\n",
       "      <td>60</td>\n",
       "      <td>60</td>\n",
       "      <td>60</td>\n",
       "      <td>60</td>\n",
       "    </tr>\n",
       "  </tbody>\n",
       "</table>\n",
       "</div>"
      ],
      "text/plain": [
       "      Immediate  Delayed  Total  Date  Time  RT  Feedback  DualTask\n",
       "Deck                                                               \n",
       "A            14       14     14    14    14  14        14        14\n",
       "B            14       14     14    14    14  14        14        14\n",
       "C            12       12     12    12    12  12        12        12\n",
       "D            60       60     60    60    60  60        60        60"
      ]
     },
     "execution_count": 190,
     "metadata": {},
     "output_type": "execute_result"
    }
   ],
   "source": [
    "data.groupby('Deck').agg('count')"
   ]
  },
  {
   "cell_type": "markdown",
   "id": "e756e84d-4b83-4f45-b023-97845d070b47",
   "metadata": {},
   "source": [
    "# The model\n",
    "\n",
    "It is easy to design an RL model for this task. There is only a single _state_, which corresponds to the condition in which a participant makes a decision. The four possible _decks_ correspond to the four _actions_ $A, B, C, D$. The sum of the _immediate_ and _delayed_ feedback corresponds to our reward signal $r_{t+1}$. And, because we have actions, our model will be a model that learn _Q_ values.\n",
    "\n",
    "Because each trial consists of only one response to a single state (that is, we don’t have multiple states), the _Q_-learning equation reduces to:\n",
    "\n",
    "$$ Q(s) = Q(s) + \\alpha [r_{t+1} - Q(s)] $$\n",
    "\n",
    "We also need a way to select actions, given the model's _Q_-table. We will use the Boltzmann policy:\n",
    "\n",
    "$$P(a_i) = \\exp(\\frac{-Q(a_i)}{T}) / \\sum_j \\exp(\\frac{-Q(a_i)}{T})$$"
   ]
  },
  {
   "cell_type": "code",
   "execution_count": 191,
   "id": "d2010599-8ae8-4f60-91a6-8bb78cd1ccb5",
   "metadata": {},
   "outputs": [],
   "source": [
    "def boltzmann(options, values, temperature):\n",
    "    \"\"\"Returns a Boltzmann distribution of the probabilities of each option\"\"\"\n",
    "    temperature = max(temperature, 0.01) \n",
    "    vals = np.array(values)/temperature\n",
    "    bvals = np.exp(vals - np.max(vals)) / np.exp(vals - np.max(vals)).sum()\n",
    "    return dict(zip(options, bvals))"
   ]
  },
  {
   "cell_type": "markdown",
   "id": "47055aa0-8554-4ba8-9069-559f1081b7ea",
   "metadata": {},
   "source": [
    "## Fitting a Model With Maximum Likelihood\n",
    "\n",
    "Fitting a model is the process of finding parameter values $\\theta$ that reduce the difference between observed data $Y$ and model's predictions $Y’$. In most modern modeling approaches, we tend to use the __maximum likelihood__ approach.\n",
    "\n",
    "The likelihood of $\\theta$ is probability that $\\theta$ would produce data that is identical to the observed data $x$:\n",
    "\n",
    "$$ L(\\theta | x) = P(x | \\theta) $$\n",
    "\n",
    "Our goal is to find the values of $\\theta$ that maximize $L$!\n",
    "\n",
    "### Handling Data Vectors\n",
    "\n",
    "Our data $x$ is a vector of 78 responses, one for each trial:\n",
    "\n",
    "$$ x = x_1, x_2,\\dots, x_{78} $$\n",
    "\n",
    "\n",
    "The probability that $\\theta$ would generate the data vector $x$ is the product of the probabilities of that $\\theta$ would generate each response in the sequence:\n",
    "\n",
    "$$P(x | \\theta) = P(x_1 | \\theta) \\times P(x_2 | \\theta) \\times \\dots \\times P(x_{78} | \\theta) = \\prod_i P(x_i | θ)$$\n",
    "\n",
    "Because the products of probabilities get vanishingly small, we use _logs_ of probabilities instead---logs of small values become large negative values.\n",
    "\n",
    "$$\\log P(x | \\theta) = \\log \\left( \\prod_i P(x_i | \\theta) \\right) = \\sum_i \\log P(x_i | \\theta)$$\n",
    "\n",
    "### The Algorithm\n",
    "\n",
    "Now that we have everything in place, we need a function to compute the log-likelihood of a given set of responses, given some parameters $\\theta$. The algorithm is just this:\n",
    "\n",
    "* Create a $Q$-table, with 4 entries (4 actions, one for each deck). \n",
    "* Set all $Q$-values to zero\n",
    "* Create a variable _L_ to save the log-likelihood value, and set it to zero: $L = 0$\n",
    "* Then, for each response $x_1, x_2, \\dots, x_{100}$:\n",
    "   * Calculate $P(x)$ using Boltzmann equation\n",
    "   * Update the log likelihood by adding the log of $P(x)$: $L = L + \\log P(x)$\n",
    "   * And finally, update the value $Q(s, x)$ using _Q_-learning: $Q(s, x) = Q(s, x) + \\alpha[r_{t+1} - Q(s, x)]$\n",
    "* At the end return _L_\n"
   ]
  },
  {
   "cell_type": "code",
   "execution_count": 192,
   "id": "cc39ecbb-9981-465a-9859-354dd78f4278",
   "metadata": {
    "tags": []
   },
   "outputs": [],
   "source": [
    "Q={}\n",
    "def LL(data, alpha, temp):\n",
    "    \"\"\"For each trial, calculate the probability of that response, sum the log likelihoods, and update the values\"\"\"\n",
    "    global Q\n",
    "    LL = 0.0\n",
    "    Q = {}\n",
    "    \n",
    "    # Set Q-values to zero\n",
    "    \n",
    "    for action in set(data.Deck):\n",
    "        Q[action] = 0.0\n",
    "    \n",
    "    # Loop over all trials\n",
    "    \n",
    "    for i, action in enumerate(data.Deck):\n",
    "        reward = data.Immediate.iloc[i] + data.Delayed.iloc[i]\n",
    "        # Calculate log likelihood of each specific response\n",
    "        \n",
    "        options = [x for x in Q.keys()] \n",
    "        values = [Q[opt] for opt in options]\n",
    "        prob = boltzmann(options, values, temp)[action]\n",
    "        \n",
    "        # Sum up the LLs of each choice\n",
    "        \n",
    "        LL += np.log(max(prob, 10e-10))\n",
    "        \n",
    "        # Updates the Q values using Q-learning\n",
    "        \n",
    "        Q_old = Q[action]\n",
    "        Q[action] = Q_old + alpha * (reward - Q_old)\n",
    "        \n",
    "    return LL\n"
   ]
  },
  {
   "cell_type": "markdown",
   "id": "0c4d1a98-d649-42d2-a888-ce697e5d7f0f",
   "metadata": {},
   "source": [
    "Example: What is the log-likelihood of $\\alpha = 0.1, T = 2.0$?"
   ]
  },
  {
   "cell_type": "code",
   "execution_count": 225,
   "id": "3b916d23-92b4-4030-a758-f2f654ddc7be",
   "metadata": {
    "tags": []
   },
   "outputs": [
    {
     "data": {
      "text/plain": [
       "-122.58218951235254"
      ]
     },
     "execution_count": 225,
     "metadata": {},
     "output_type": "execute_result"
    }
   ],
   "source": [
    "LL(data, 0.005, 11)"
   ]
  },
  {
   "cell_type": "markdown",
   "id": "1b7ef520-cf30-46c4-8176-f2af8f6380aa",
   "metadata": {},
   "source": [
    "# Grid search\n",
    "\n",
    "We can calculate the log-likelihoods for different combinations of $0.05 < \\alpha < 0.55$ and $0 < T < 10$ "
   ]
  },
  {
   "cell_type": "code",
   "execution_count": 194,
   "id": "0fa66863-3de5-4ae5-b937-fdfb96990797",
   "metadata": {
    "tags": []
   },
   "outputs": [],
   "source": [
    "alphaspace = np.arange(0.1, 1.01, 0.1)\n",
    "tempspace = np.arange(1, 10.05, 1)\n",
    "matrix = np.zeros((len(alphaspace), len(tempspace)))\n",
    "for i, a in enumerate(alphaspace):\n",
    "    for j, t in enumerate(tempspace):\n",
    "        matrix[i,j] = LL(data, a, t)"
   ]
  },
  {
   "cell_type": "markdown",
   "id": "b64bb6d6-cfd3-4fef-bd12-0372eedc0650",
   "metadata": {},
   "source": [
    "And we can visualize them"
   ]
  },
  {
   "cell_type": "code",
   "execution_count": 195,
   "id": "9b978b19-56b6-46dd-8048-eccf3183a847",
   "metadata": {
    "tags": []
   },
   "outputs": [
    {
     "name": "stderr",
     "output_type": "stream",
     "text": [
      "/var/folders/99/15zptlt56d7f2h8pxlt9k4000000gn/T/ipykernel_3043/2559159405.py:8: UserWarning: set_ticklabels() should only be used with a fixed number of ticks, i.e. after set_ticks() or using a FixedLocator.\n",
      "  ax.set_yticklabels([''] + [str(round(x, 2)) for x in alphaspace])\n",
      "/var/folders/99/15zptlt56d7f2h8pxlt9k4000000gn/T/ipykernel_3043/2559159405.py:9: UserWarning: set_ticklabels() should only be used with a fixed number of ticks, i.e. after set_ticks() or using a FixedLocator.\n",
      "  ax.set_xticklabels([''] + [str(round(x, 2)) for x in tempspace])\n"
     ]
    },
    {
     "data": {
      "image/png": "[encoded data removed]",
      "text/plain": [
       "<Figure size 640x480 with 2 Axes>"
      ]
     },
     "metadata": {},
     "output_type": "display_data"
    }
   ],
   "source": [
    "fig = plt.figure()\n",
    "ax = fig.add_subplot(111)\n",
    "cax = ax.matshow(matrix, interpolation='nearest')\n",
    "fig.colorbar(cax)\n",
    "\n",
    "ax.xaxis.set_major_locator(MultipleLocator(1))\n",
    "ax.yaxis.set_major_locator(MultipleLocator(1))\n",
    "ax.set_yticklabels([''] + [str(round(x, 2)) for x in alphaspace])\n",
    "ax.set_xticklabels([''] + [str(round(x, 2)) for x in tempspace])\n",
    "ax.set_ylabel(r\"Learning rate $\\alpha$ \")\n",
    "ax.set_xlabel(r\"Temperature $T$ \")\n",
    "ax.set_title(\"Log-Likelihood of RL Model by Parameter Combination\")\n",
    "plt.show()"
   ]
  },
  {
   "cell_type": "markdown",
   "id": "28dda252-0cfe-4176-a38b-380171043c29",
   "metadata": {},
   "source": [
    "## Optimization\n",
    "\n",
    "Grod-search is rarely used. Instead, in moderl mdoel-fitting, we use optimization techniques. Most algorithms are already available as software packages; in Python, they are available in SciPy's `minimize` package. These algorithms use __minimization__ techniques, minimizing a loss function that takes as an argument an array of parameters $\\theta$ and return a loss value. Because we want to _maximize_ log-likelihood, we will define our loss function as the inverse of the log-likelihood. "
   ]
  },
  {
   "cell_type": "code",
   "execution_count": 196,
   "id": "827520e7-b76f-439f-94f1-ac91c8e79ad9",
   "metadata": {
    "tags": []
   },
   "outputs": [],
   "source": [
    "intermediate = [] # Saves intermediate results for visualization\n",
    "\n",
    "def loss(theta):\n",
    "    \"\"\"Loss function = 1 * log-likelihood\"\"\"\n",
    "    global data\n",
    "    alpha, temp = theta\n",
    "    intermediate.append(theta)\n",
    "    return -1 * LL(data, alpha, temp)"
   ]
  },
  {
   "cell_type": "markdown",
   "id": "974d4bda-fcae-4cf2-8ba5-0b015f4241b4",
   "metadata": {},
   "source": [
    "Here is an example, in wjhich we will minimize the loss using the Nelder-Mead \"simplex\" algorithm"
   ]
  },
  {
   "cell_type": "code",
   "execution_count": 197,
   "id": "4d5d6f87-6c09-42d5-a87a-99a43130ab26",
   "metadata": {
    "tags": []
   },
   "outputs": [
    {
     "data": {
      "text/plain": [
       " message: Optimization terminated successfully.\n",
       " success: True\n",
       "  status: 0\n",
       "     fun: 379.73040537390517\n",
       "       x: [ 5.486e-01  1.000e+01]\n",
       "     nit: 3\n",
       "   direc: [[-1.617e-05 -2.430e-04]\n",
       "           [-4.921e-06  7.680e-09]]\n",
       "    nfev: 224"
      ]
     },
     "execution_count": 197,
     "metadata": {},
     "output_type": "execute_result"
    }
   ],
   "source": [
    "intermediate = []\n",
    "opt.minimize(loss, x0 = [0.25, 5], method = \"Powell\", bounds=[[0.1,1],[1,10]])"
   ]
  },
  {
   "cell_type": "markdown",
   "id": "4679d550-8428-4090-82d8-7457caedb52a",
   "metadata": {},
   "source": [
    "The `intermediate` list contains all the points in parameter space examined by the minimization function."
   ]
  },
  {
   "cell_type": "code",
   "execution_count": 198,
   "id": "597db67c-4686-4939-a03b-f7ad00d8420f",
   "metadata": {
    "tags": []
   },
   "outputs": [
    {
     "data": {
      "image/png": "[encoded data removed]",
      "text/plain": [
       "<Figure size 640x480 with 1 Axes>"
      ]
     },
     "metadata": {},
     "output_type": "display_data"
    }
   ],
   "source": [
    "plt.plot(intermediate, label=[r\"$\\alpha$\", \"$T$\"])\n",
    "plt.legend()\n",
    "plt.show()"
   ]
  },
  {
   "cell_type": "markdown",
   "id": "90997d79-ec2f-4b64-be93-08295b18afd2",
   "metadata": {},
   "source": [
    "And here are the results of the minimization search, overlaid over the parameter space matrix"
   ]
  },
  {
   "cell_type": "code",
   "execution_count": 199,
   "id": "33c6d494-3f73-478f-ac53-f638518a92ff",
   "metadata": {
    "tags": []
   },
   "outputs": [
    {
     "name": "stderr",
     "output_type": "stream",
     "text": [
      "/var/folders/99/15zptlt56d7f2h8pxlt9k4000000gn/T/ipykernel_3043/1545915183.py:8: UserWarning: set_ticklabels() should only be used with a fixed number of ticks, i.e. after set_ticks() or using a FixedLocator.\n",
      "  ax.set_yticklabels([''] + [str(round(x, 2)) for x in alphaspace])\n",
      "/var/folders/99/15zptlt56d7f2h8pxlt9k4000000gn/T/ipykernel_3043/1545915183.py:9: UserWarning: set_ticklabels() should only be used with a fixed number of ticks, i.e. after set_ticks() or using a FixedLocator.\n",
      "  ax.set_xticklabels([''] + [str(round(x, 2)) for x in tempspace])\n"
     ]
    },
    {
     "data": {
      "image/png": "[encoded data removed]",
      "text/plain": [
       "<Figure size 640x480 with 2 Axes>"
      ]
     },
     "metadata": {},
     "output_type": "display_data"
    }
   ],
   "source": [
    "fig = plt.figure()\n",
    "ax = fig.add_subplot(111)\n",
    "cax = ax.matshow(matrix, interpolation='nearest')\n",
    "fig.colorbar(cax)\n",
    "\n",
    "ax.xaxis.set_major_locator(MultipleLocator(1))\n",
    "ax.yaxis.set_major_locator(MultipleLocator(1))\n",
    "ax.set_yticklabels([''] + [str(round(x, 2)) for x in alphaspace])\n",
    "ax.set_xticklabels([''] + [str(round(x, 2)) for x in tempspace])\n",
    "ax.set_ylabel(r\"Learning rate $\\alpha$ \")\n",
    "ax.set_xlabel(r\"Temperature $T$ \")\n",
    "ax.set_title(\"Log-Likelihood of RL Model by Parameter Combination\")\n",
    "\n",
    "for y, x in intermediate[:-1]:\n",
    "    plt.plot(x-1, (y-0.1)*10, \"o\", color=\"white\", alpha=0.6)\n",
    "\n",
    "y, x = intermediate[-1]\n",
    "plt.plot(x-1, (y-0.1)*10, \"o\", color=\"cyan\")\n",
    "\n",
    "plt.show()"
   ]
  },
  {
   "cell_type": "markdown",
   "id": "89ef3959-7a50-4823-8fc9-58970c0b479b",
   "metadata": {},
   "source": [
    "Better than chance? We can compute the likelihood of perfect random responses: it is just given by:\n",
    "\n",
    "$$LL_{random} = N \\times \\log(1/4) $$"
   ]
  },
  {
   "cell_type": "code",
   "execution_count": 228,
   "id": "e1aed6b7-e277-421f-b64e-69358a248ae3",
   "metadata": {},
   "outputs": [
    {
     "data": {
      "text/plain": [
       "-138.62943611198907"
      ]
     },
     "execution_count": 228,
     "metadata": {},
     "output_type": "execute_result"
    }
   ],
   "source": [
    "100*np.log(1/4)"
   ]
  }
 ],
 "metadata": {
  "kernelspec": {
   "display_name": "Python 3 (ipykernel)",
   "language": "python",
   "name": "python3"
  },
  "language_info": {
   "codemirror_mode": {
    "name": "ipython",
    "version": 3
   },
   "file_extension": ".py",
   "mimetype": "text/x-python",
   "name": "python",
   "nbconvert_exporter": "python",
   "pygments_lexer": "ipython3",
   "version": "3.11.7"
  }
 },
 "nbformat": 4,
 "nbformat_minor": 5
}
